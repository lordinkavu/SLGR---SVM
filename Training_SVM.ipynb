{
  "nbformat": 4,
  "nbformat_minor": 0,
  "metadata": {
    "colab": {
      "name": "Training - SVM ",
      "provenance": [],
      "collapsed_sections": [],
      "authorship_tag": "ABX9TyNr8cGol6+nY8vSqLqv/CBh",
      "include_colab_link": true
    },
    "kernelspec": {
      "name": "python3",
      "display_name": "Python 3"
    },
    "language_info": {
      "name": "python"
    }
  },
  "cells": [
    {
      "cell_type": "markdown",
      "metadata": {
        "id": "view-in-github",
        "colab_type": "text"
      },
      "source": [
        "<a href=\"https://colab.research.google.com/github/lordinkavu/SLGR-SVM/blob/main/Training_SVM.ipynb\" target=\"_parent\"><img src=\"https://colab.research.google.com/assets/colab-badge.svg\" alt=\"Open In Colab\"/></a>"
      ]
    },
    {
      "cell_type": "code",
      "source": [
        "from google.colab import drive\n",
        "drive.mount('/content/gdrive')"
      ],
      "metadata": {
        "id": "zw5i033DxvwE",
        "colab": {
          "base_uri": "https://localhost:8080/"
        },
        "outputId": "6da2c276-bd45-45bd-e4f9-bdacd49c2253"
      },
      "execution_count": 1,
      "outputs": [
        {
          "output_type": "stream",
          "name": "stdout",
          "text": [
            "Mounted at /content/gdrive\n"
          ]
        }
      ]
    },
    {
      "cell_type": "code",
      "execution_count": 2,
      "metadata": {
        "id": "Ljp4iHDoxnby"
      },
      "outputs": [],
      "source": [
        "import os\n",
        "os.environ['KAGGLE_CONFIG_DIR'] = \"/content/gdrive/My Drive/Colab Notebooks/SLGR\""
      ]
    },
    {
      "cell_type": "code",
      "source": [
        "%cd /content/gdrive/My Drive/Colab Notebooks/SLGR"
      ],
      "metadata": {
        "id": "90g6Hh2ByuO9",
        "colab": {
          "base_uri": "https://localhost:8080/"
        },
        "outputId": "19871108-38ea-42b7-f46d-07b6a963c3d5"
      },
      "execution_count": 3,
      "outputs": [
        {
          "output_type": "stream",
          "name": "stdout",
          "text": [
            "/content/gdrive/My Drive/Colab Notebooks/SLGR\n"
          ]
        }
      ]
    },
    {
      "cell_type": "code",
      "source": [
        "import pandas as pd\n",
        "from sklearn.model_selection import train_test_split\n",
        "from sklearn.svm import SVC\n",
        "from sklearn.metrics import accuracy_score, f1_score"
      ],
      "metadata": {
        "id": "as5O9rbmza-c"
      },
      "execution_count": 4,
      "outputs": []
    },
    {
      "cell_type": "code",
      "source": [
        "df = pd.read_csv(\"./feature_vectors_01_formatted.csv\", header=None)\n",
        "df[0] = df[0].astype('category')\n",
        "df[0] = df[0].cat.codes\n",
        "Y=df[0]\n",
        "X=df.drop(0,axis=1)"
      ],
      "metadata": {
        "id": "tWZ7N4H91OR0"
      },
      "execution_count": 5,
      "outputs": []
    },
    {
      "cell_type": "code",
      "source": [
        "df_new = pd.read_csv(\"./input_vectors02.csv\", header=None)\n",
        "df_new[0] = df_new[0].astype('category')\n",
        "df_new[0] = df_new[0].cat.codes\n",
        "Y_new=df_new[0]\n",
        "X_new=df_new.drop(0,axis=1)\n"
      ],
      "metadata": {
        "id": "1VuFjfEwyRCj"
      },
      "execution_count": 6,
      "outputs": []
    },
    {
      "cell_type": "code",
      "source": [
        "X_train,X_test,Y_train,Y_test= train_test_split(X,Y,test_size=0.2,random_state=101)"
      ],
      "metadata": {
        "id": "Dy7EnIVN-3Bw"
      },
      "execution_count": 7,
      "outputs": []
    },
    {
      "cell_type": "code",
      "source": [
        "poly = SVC(kernel='poly', degree=3, C=0.1, gamma=100).fit(X_train, Y_train)\n",
        "poly_pred = poly.predict(X_test)\n",
        "poly_accuracy = accuracy_score(Y_test, poly_pred)\n",
        "poly_f1 = f1_score(Y_test, poly_pred, average='weighted')\n",
        "print('Accuracy (Polynomial Kernel): ', \"%.2f\" % (poly_accuracy*100))\n",
        "print('F1 (Polynomial Kernel): ', \"%.2f\" % (poly_f1*100))\n"
      ],
      "metadata": {
        "colab": {
          "base_uri": "https://localhost:8080/"
        },
        "id": "EEr2GuxOFa5Z",
        "outputId": "0bddf668-f5a8-4cab-810e-c6d66d165a7b"
      },
      "execution_count": 8,
      "outputs": [
        {
          "output_type": "stream",
          "name": "stdout",
          "text": [
            "Accuracy (Polynomial Kernel):  99.00\n",
            "F1 (Polynomial Kernel):  99.01\n"
          ]
        }
      ]
    },
    {
      "cell_type": "code",
      "source": [
        "poly_pred_new = poly.predict(X_new)\n",
        "poly_accuracy_new = accuracy_score(Y_new, poly_pred_new)\n",
        "poly_f1_new = f1_score(Y_new, poly_pred_new, average='weighted')\n",
        "print('Accuracy (Polynomial Kernel): ', \"%.2f\" % (poly_accuracy_new*100))\n",
        "print('F1 (Polynomial Kernel): ', \"%.2f\" % (poly_f1_new*100))"
      ],
      "metadata": {
        "colab": {
          "base_uri": "https://localhost:8080/"
        },
        "id": "vA8KHafTyvgn",
        "outputId": "8291537d-544b-4b40-b472-b09ebbf21e8c"
      },
      "execution_count": 9,
      "outputs": [
        {
          "output_type": "stream",
          "name": "stdout",
          "text": [
            "Accuracy (Polynomial Kernel):  98.01\n",
            "F1 (Polynomial Kernel):  98.00\n"
          ]
        }
      ]
    },
    {
      "cell_type": "code",
      "source": [
        "poly = SVC(kernel='poly', degree=3, C=2, gamma=100).fit(X_train, Y_train)\n",
        "poly_pred = poly.predict(X_train)\n",
        "poly_accuracy = accuracy_score(Y_train, poly_pred)\n",
        "poly_f1 = f1_score(Y_train, poly_pred, average='weighted')\n",
        "print('Accuracy (Polynomial Kernel): ', \"%.2f\" % (poly_accuracy*100))\n",
        "print('F1 (Polynomial Kernel): ', \"%.2f\" % (poly_f1*100))"
      ],
      "metadata": {
        "colab": {
          "base_uri": "https://localhost:8080/"
        },
        "id": "GzzlCF8ibS-_",
        "outputId": "a804963a-7946-420e-f4ba-3688f2365c12"
      },
      "execution_count": 10,
      "outputs": [
        {
          "output_type": "stream",
          "name": "stdout",
          "text": [
            "Accuracy (Polynomial Kernel):  100.00\n",
            "F1 (Polynomial Kernel):  100.00\n"
          ]
        }
      ]
    }
  ]
}